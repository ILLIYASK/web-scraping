{
 "cells": [
  {
   "cell_type": "markdown",
   "id": "411a0b8a",
   "metadata": {},
   "source": [
    "## import reqiured libraries"
   ]
  },
  {
   "cell_type": "code",
   "execution_count": null,
   "id": "1a8dd87f",
   "metadata": {},
   "outputs": [],
   "source": [
    "import requests\n",
    "import pandas as pd\n",
    "from bs4 import BeautifulSoup"
   ]
  },
  {
   "cell_type": "markdown",
   "id": "7fe53954",
   "metadata": {},
   "source": [
    "## base url and headers "
   ]
  },
  {
   "cell_type": "code",
   "execution_count": null,
   "id": "3083f772",
   "metadata": {},
   "outputs": [],
   "source": [
    "base_url = 'https://www.acemicromatic.net/product_cat/milling/'\n",
    "headers = {\n",
    "    'User-Agent': 'Mozilla/5.0 (Windows NT 10.0; Win64; x64) AppleWebKit/537.36 (KHTML, like Gecko) Chrome/89.0.4389.82 Safari/537.36'\n",
    "}"
   ]
  },
  {
   "cell_type": "markdown",
   "id": "ee2d5155",
   "metadata": {},
   "source": [
    "## create functions"
   ]
  },
  {
   "cell_type": "markdown",
   "id": "810650c3",
   "metadata": {},
   "source": [
    "### this function give a dictionary contains all the main milling machines and its link  "
   ]
  },
  {
   "cell_type": "code",
   "execution_count": null,
   "id": "c4e06473",
   "metadata": {},
   "outputs": [],
   "source": [
    "def products(url:str,headers:dict) -> dict:\n",
    "    \n",
    "    \"\"\"\n",
    "    to find products and its links\n",
    "    \n",
    "    arg\n",
    "    -------------\n",
    "    url : string of  url of a html page  \n",
    "    headers : dictionary of header of web browsers\n",
    "    \n",
    "    return\n",
    "    --------------\n",
    "    \n",
    "    return a dict of keys equal to product name and values is the link of prodcts \n",
    "    \n",
    "    \"\"\"\n",
    "    \n",
    "    base_page = requests.get(url=url,headers=headers)\n",
    "    base_html = base_page.text\n",
    "    \n",
    "    soup = BeautifulSoup(base_html, 'html.parser')\n",
    "\n",
    "    # find div element w.r.t class \n",
    "    products_wrapper = soup.find_all('div' ,class_='productcat-wrapper')\n",
    "    \n",
    "\n",
    "    products_div = products_wrapper[0].find_all('div',class_='button-wrapper')\n",
    "    \n",
    "    main_links = []\n",
    "\n",
    "    for div in products_div:\n",
    "\n",
    "        # find links\n",
    "        link = div.find_all('a')\n",
    "        href = link[0].get('href')\n",
    "        main_links.append(href)\n",
    "        \n",
    "    main_products = [name.text.strip() for name in products_wrapper[0].find_all('h4')]\n",
    "     \n",
    "    products = {}\n",
    "    \n",
    "    for product,link in zip(main_products,main_links):\n",
    "        products[product]=link\n",
    "        \n",
    "    return products\n",
    "\n",
    "\n",
    "    "
   ]
  },
  {
   "cell_type": "markdown",
   "id": "27126b5e",
   "metadata": {},
   "source": [
    "### this function give a dictionary contains all sub categories  the main milling machines and its link  for each main milling machines\n"
   ]
  },
  {
   "cell_type": "code",
   "execution_count": null,
   "id": "a73d2d06",
   "metadata": {},
   "outputs": [],
   "source": [
    "def sub_categories(url,headers):\n",
    "    \n",
    "    product_page= requests.get(url,headers=headers)\n",
    "    product_page_html = product_page.text\n",
    "    soup = BeautifulSoup(product_page_html, 'html.parser')\n",
    "    products_wrapper = soup.find_all('div' ,class_='section-block common-block wow fadeIn')\n",
    "    products_div = products_wrapper[0].find_all('div',class_='button-wrapper')\n",
    "\n",
    "    main_links = []\n",
    "\n",
    "    for div in products_div:\n",
    "\n",
    "        link = div.find_all('a')\n",
    "        href = link[0].get('href')\n",
    "        main_links.append(href)\n",
    "\n",
    "    main_products = [name.text.strip() for name in products_wrapper[0].find_all('h4')]\n",
    "    product= {}\n",
    "    for categories,link in zip(main_products,main_links):\n",
    "        product[categories]=link    \n",
    "        \n",
    "    return product"
   ]
  },
  {
   "cell_type": "markdown",
   "id": "b300ded7",
   "metadata": {},
   "source": [
    "### this function specific for vertical maching center it has two level of sub categories. and give a dictionary contains all the sub category vertical milling machines and its link  \n"
   ]
  },
  {
   "cell_type": "code",
   "execution_count": null,
   "id": "59d21b45",
   "metadata": {},
   "outputs": [],
   "source": [
    "def vertical_machining_centers(url,headers):\n",
    "    \n",
    "    categories = products(url,headers)\n",
    "    vertical = {}\n",
    "    \n",
    "    for category,ur in zip(categories.keys(),categories.values()):\n",
    "    \n",
    "        product = sub_categories(ur,headers)\n",
    "        \n",
    "        for key,value in zip(product.keys(),product.values()):\n",
    "            \n",
    "            vertical[category+'-'+key] = value\n",
    "    \n",
    "    return vertical\n",
    "        \n",
    "        \n",
    "        \n",
    "        "
   ]
  },
  {
   "cell_type": "markdown",
   "id": "dd434994",
   "metadata": {},
   "source": [
    "### this function is specific for 5 axes milling machine. return  x/y/z travel for 5 axes milling machine"
   ]
  },
  {
   "cell_type": "code",
   "execution_count": null,
   "id": "a9178b91",
   "metadata": {},
   "outputs": [],
   "source": [
    "def five_axes(url,headers):\n",
    "\n",
    "    product_page = requests.get(url,headers=headers)\n",
    "    product_html = product_page.text\n",
    "\n",
    "    soup = BeautifulSoup(product_html, 'html.parser')\n",
    "\n",
    "    machine = soup.find_all('tr' ,class_='hide_row hide_2')\n",
    "\n",
    "\n",
    "    xyz = ''\n",
    "    for ind,axes in enumerate(machine[:3]):\n",
    "\n",
    "        if ind <2:\n",
    "            xyz += machine[ind].find_all('td')[2].text.strip()+' / '\n",
    "        else :\n",
    "            xyz += machine[ind].find_all('td')[2].text.strip()\n",
    "            \n",
    "    return xyz"
   ]
  },
  {
   "cell_type": "markdown",
   "id": "d17c9cc1",
   "metadata": {},
   "source": [
    "### this fuction return the x,y,z travels"
   ]
  },
  {
   "cell_type": "code",
   "execution_count": null,
   "id": "26516d21",
   "metadata": {},
   "outputs": [],
   "source": [
    "def travel(url,header):\n",
    "    \n",
    "    if '5-axes' not in url: \n",
    "        \n",
    "        if ('gemini-460-xl'  not in url) or ('gemini-460-xl'  not in url) :\n",
    "            category_page= requests.get(url=url,headers=headers)\n",
    "            category_page_html = category_page.text\n",
    "            soup2 = BeautifulSoup(category_page_html, 'html.parser')\n",
    "\n",
    "            tr= soup2.find_all('tr',class_ = 'hide_row hide_2')\n",
    "            tds = tr[0].find_all('td')\n",
    "            xyz = tds[2].text.strip()\n",
    "            \n",
    "        else:\n",
    "            return 'x / y / z'\n",
    "\n",
    "        return xyz\n",
    "    else :\n",
    "        \n",
    "        return five_axes(url,headers)"
   ]
  },
  {
   "cell_type": "markdown",
   "id": "864923d7",
   "metadata": {},
   "source": [
    "## create dictionary "
   ]
  },
  {
   "cell_type": "code",
   "execution_count": null,
   "id": "8960ea02",
   "metadata": {},
   "outputs": [],
   "source": [
    "final = {\n",
    "    'param_1' : [],\n",
    "    'param_2' : [],\n",
    "    'model_name' : [],\n",
    "    'x_travel' : [],\n",
    "    'y_travel' : [],\n",
    "    'z_travel' : []\n",
    "}"
   ]
  },
  {
   "cell_type": "markdown",
   "id": "a8d31571",
   "metadata": {},
   "source": [
    "## loop through all available products in milling "
   ]
  },
  {
   "cell_type": "code",
   "execution_count": null,
   "id": "6a0c2c10",
   "metadata": {
    "scrolled": true
   },
   "outputs": [],
   "source": [
    "\n",
    "base_products = products('https://www.acemicromatic.net/product_cat/milling/',headers)\n",
    "\n",
    "for base_key,base_url in zip(base_products.keys(),base_products.values()):\n",
    "    \n",
    "    \n",
    "    if ('vertical-machining-centers' not in base_url) and ('double-column' not in base_url) and ('5-axes-vmc' not in base_url):\n",
    "\n",
    "        product = sub_categories(base_url,headers)\n",
    "        \n",
    "        print(product)\n",
    "        \n",
    "        for product_name,product_link in zip(product.keys(),product.values()):\n",
    "\n",
    "            xyz = travel(product_link,headers)\n",
    "            \n",
    "            x,y,z = xyz.split(' / ',maxsplit=2)\n",
    "            \n",
    "            final['param_1'].append('milling')\n",
    "            final['param_2'].append(base_key)\n",
    "            final['model_name'].append(product_name)\n",
    "            final['x_travel'].append(x)\n",
    "            final['y_travel'].append(y)\n",
    "            final['z_travel'].append(z)\n",
    "\n",
    "    else:\n",
    "        \n",
    "        if ('double-column' in base_url) or ('5-axes-vmc' in base_url):\n",
    "            \n",
    "                product = sub_categories(base_url,headers)\n",
    "        \n",
    "                print(product)\n",
    "\n",
    "                for product_name,product_link in zip(product.keys(),product.values()):\n",
    "\n",
    "                    xyz = five_axes(product_link,headers)\n",
    "                    \n",
    "                    print(xyz)\n",
    "                    \n",
    "                    x,y,z = xyz.split(' / ',maxsplit=2)\n",
    "                    final['param_1'].append('milling')\n",
    "                    final['param_2'].append(base_key)\n",
    "                    final['model_name'].append(product_name)\n",
    "                    final['x_travel'].append(x)\n",
    "                    final['y_travel'].append(y)\n",
    "                    final['z_travel'].append(z)\n",
    "\n",
    "            \n",
    "        elif 'vertical-machining-centers' in base_url:\n",
    "\n",
    "                product = vertical_machining_centers(base_url,headers)\n",
    "\n",
    "                print(product)\n",
    "\n",
    "                for product_name,product_link in zip(product.keys(),product.values()):\n",
    "\n",
    "                    xyz = travel(product_link,headers)\n",
    "                    print(xyz)\n",
    "\n",
    "                    x,y,z = xyz.split(' / ',maxsplit=2)\n",
    "                    final['param_1'].append('milling')\n",
    "                    final['param_2'].append(base_key)\n",
    "                    final['model_name'].append(product_name)\n",
    "                    final['x_travel'].append(x)\n",
    "                    final['y_travel'].append(y)\n",
    "                    final['z_travel'].append(z)\n",
    "\n",
    "        \n",
    "        \n"
   ]
  },
  {
   "cell_type": "markdown",
   "id": "78a1852b",
   "metadata": {},
   "source": [
    "## create DataFrame"
   ]
  },
  {
   "cell_type": "code",
   "execution_count": null,
   "id": "8b2124e4",
   "metadata": {},
   "outputs": [],
   "source": [
    "df = pd.DataFrame(final)\n",
    "df.head()"
   ]
  },
  {
   "cell_type": "markdown",
   "id": "0e8fb543",
   "metadata": {},
   "source": [
    "## save to  csv"
   ]
  },
  {
   "cell_type": "code",
   "execution_count": null,
   "id": "16de1333",
   "metadata": {},
   "outputs": [],
   "source": [
    "df.to_csv('milling_machines.csv',index=False)"
   ]
  }
 ],
 "metadata": {
  "kernelspec": {
   "display_name": "Python 3 (ipykernel)",
   "language": "python",
   "name": "python3"
  },
  "language_info": {
   "codemirror_mode": {
    "name": "ipython",
    "version": 3
   },
   "file_extension": ".py",
   "mimetype": "text/x-python",
   "name": "python",
   "nbconvert_exporter": "python",
   "pygments_lexer": "ipython3",
   "version": "3.11.3"
  }
 },
 "nbformat": 4,
 "nbformat_minor": 5
}
